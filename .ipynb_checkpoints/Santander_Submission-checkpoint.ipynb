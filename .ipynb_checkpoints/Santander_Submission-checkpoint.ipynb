{
 "cells": [
  {
   "cell_type": "code",
   "execution_count": 1,
   "metadata": {},
   "outputs": [],
   "source": [
    "import os\n",
    "import numpy as np\n",
    "import pickle\n",
    "import datetime\n",
    "from time import gmtime, strftime\n",
    "import pandas as pd\n",
    "from scipy import stats, special\n",
    "import matplotlib.pyplot as plt\n",
    "import seaborn as sns\n",
    "from sklearn import preprocessing\n",
    "import sagemaker\n",
    "from sagemaker import get_execution_role\n",
    "from sagemaker.amazon.amazon_estimator import get_image_uri\n"
   ]
  },
  {
   "cell_type": "markdown",
   "metadata": {},
   "source": [
    "## Loading Model and Preprocessed Test Data"
   ]
  },
  {
   "cell_type": "code",
   "execution_count": 2,
   "metadata": {},
   "outputs": [],
   "source": [
    "data_dir = 'input_data'\n",
    "model_dir = 'models'\n",
    "pred_dir = 'predictions'\n",
    "model_name = 'XGB-model-pca-07-27-20'\n",
    "transform = 'pca'\n",
    "sagemaker_session = sagemaker.Session()\n",
    "bucket = sagemaker_session.default_bucket()\n",
    "role = get_execution_role()\n",
    "\n",
    "#Creating prediction directory\n",
    "if not os.path.exists(pred_dir):\n",
    "    os.makedirs(pred_dir)"
   ]
  },
  {
   "cell_type": "code",
   "execution_count": 3,
   "metadata": {},
   "outputs": [],
   "source": [
    "def load_model(model_name):\n",
    "    if model_name[0:3] == 'XGB': \n",
    "        model_prefix = 'santander_project/XGBoost'\n",
    "        \n",
    "        container = get_image_uri(sagemaker_session.boto_region_name, 'xgboost')\n",
    "        model_artifacts = sagemaker_session.upload_data(os.path.join(model_dir, model_name), bucket=bucket, key_prefix=model_prefix)\n",
    "        \n",
    "        primary_container = {\n",
    "            \"Image\": container,\n",
    "            \"ModelDataUrl\": model_artifacts\n",
    "         }\n",
    "        \n",
    "        loaded_model = sagemaker_session.sagemaker_client.create_model(\n",
    "                                ModelName = model_name,\n",
    "                                ExecutionRoleArn = role,\n",
    "                                PrimaryContainer = primary_container)\n",
    "        return loaded_model\n",
    "    \n",
    "    else:   \n",
    "        loaded_model = pickle.load(open(os.path.join(model_dir, model_name), 'rb'))\n",
    "        return loaded_model"
   ]
  },
  {
   "cell_type": "markdown",
   "metadata": {},
   "source": [
    "## Making Predictions on Test Data"
   ]
  },
  {
   "cell_type": "code",
   "execution_count": 4,
   "metadata": {},
   "outputs": [],
   "source": [
    "def make_predictions(model_name, transform=transform, sagemaker_model=True, transform_target=True):\n",
    "    files_dict = {'sparse' : 'test_sparse_pca.csv', 'pca' : 'test_pca.csv', 'imputation' : 'test_imputed.csv', 'reduction' : 'test_reduced.csv', None : 'test.csv'}\n",
    "    global data_dir \n",
    "    global pred_dir\n",
    "    loaded_model = load_model(model_name)\n",
    "    time = datetime.datetime.now().strftime(\"%D\").replace('/', '-')\n",
    "    \n",
    "    if sagemaker_model==True:\n",
    "            transform_job_name = model_name + strftime(\"%Y-%m-%d-%H-%M-%S\", gmtime())\n",
    "\n",
    "            transform_request = \\\n",
    "            {\n",
    "                \"TransformJobName\": transform_job_name,\n",
    "\n",
    "                \"ModelName\": model_name,\n",
    "\n",
    "                \"MaxConcurrentTransforms\": 1,\n",
    "\n",
    "                \"MaxPayloadInMB\": 6,\n",
    "\n",
    "                \"BatchStrategy\": \"MultiRecord\",\n",
    "\n",
    "                \"TransformOutput\": {\n",
    "                    \"S3OutputPath\": \"s3://{}/santander_project/XGBoost/batch-bransform/\".format(sagemaker_session.default_bucket()),\n",
    "                    'Accept' : 'text/csv',\n",
    "                    'AssembleWith' : 'Line'\n",
    "                },\n",
    "\n",
    "                \"TransformInput\": {\n",
    "                    \"ContentType\": \"text/csv\",\n",
    "                    \"SplitType\": \"Line\",\n",
    "                    \"DataSource\": {\n",
    "                        \"S3DataSource\": {\n",
    "                            \"S3DataType\": \"S3Prefix\",\n",
    "                            \"S3Uri\": 's3://{}/santander_project/data/{}'.format(sagemaker_session.default_bucket(), files_dict[transform])\n",
    "                        }\n",
    "                    }\n",
    "                },\n",
    "\n",
    "                \"TransformResources\": {\n",
    "                        \"InstanceType\": \"ml.m4.xlarge\",\n",
    "                        \"InstanceCount\": 1\n",
    "                },\n",
    "                \n",
    "                \"DataProcessing\": { \n",
    "                        \"InputFilter\":  '$', \n",
    "                        \"JoinSource\": \"Input\",\n",
    "                        \"OutputFilter\": \"$[-1:]\"    \n",
    "                }\n",
    "            }\n",
    "            \n",
    "            transform_response = sagemaker_session.sagemaker_client.create_transform_job(**transform_request)\n",
    "            transform_desc = sagemaker_session.wait_for_transform_job(transform_job_name)\n",
    "            transform_location = transform_request['TransformOutput']['S3OutputPath'] \n",
    "            \n",
    "            # Saving predictions from s3 to local drive\n",
    "            !aws s3 cp --recursive $transform_location $pred_dir \n",
    "            predictions_file = [x for x in os.listdir(pred_dir)][-1]\n",
    "            predictions = pd.read_csv(os.path.join(pred_dir, predictions_file), header=None, engine='python')\n",
    "            os.remove(os.path.join(pred_dir, predictions_file))\n",
    "            \n",
    "            # Inverting Box-Cox transformation of target variable, if applicable\n",
    "            if transform_target==True:\n",
    "                predictions = special.inv_boxcox(predictions.values, stats.boxcox(pd.read_csv(os.path.join(data_dir, 'train.csv'), usecols=['target', 'ID'], index_col='ID')['target'])[1])\n",
    "                predictions = [x[0] for x in predictions]\n",
    "                predictions = pd.Series(predictions, index=pd.read_csv(os.path.join(data_dir, 'test.csv'), index_col=['ID'], usecols=[0, 1]).index)\n",
    "                predictions.to_csv(os.path.join(pred_dir, 'predictions_{}_{}.csv'.format(model_name[0:3], time)), header=['target'])\n",
    "                return predictions\n",
    "            else: \n",
    "                predictions = pd.Series(predictions, index=pd.read_csv(os.path.join(data_dir, 'test.csv'), index_col=['ID'], usecols=[0, 1]).index)\n",
    "                predictions.to_csv(os.path.join(pred_dir, 'predictions_{}_{}.csv'.format(model_name[0:3], time)), header=['target'])\n",
    "                return predictions\n",
    "            \n",
    "    else:\n",
    "        X_test = pd.read_csv(os.path.join(data_dir, files_dict[transform]), header=None)\n",
    "        predictions = loaded_model.predict(X_test)\n",
    "        \n",
    "        # Inverting Box-Cox transformation of target variable, if applicable\n",
    "        if transform_target==True:\n",
    "            predictions = special.inv_boxcox(predictions.reshape(-1, 1), stats.boxcox(pd.read_csv(os.path.join(data_dir, 'train.csv'), usecols=['target', 'ID'], index_col='ID')['target'])[1])\n",
    "            predictions = [x[0] for x in predictions]\n",
    "            predictions = pd.Series(predictions, index=pd.read_csv(os.path.join(data_dir, 'test.csv'), index_col=['ID'], usecols=[0, 1]).index)\n",
    "            predictions.to_csv(os.path.join(pred_dir, 'predictions_{}_{}.csv'.format(model_name[0:3], time)), header=['target'])\n",
    "            return predictions\n",
    "        else:\n",
    "            predictions = pd.Series(predictions, index=pd.read_csv(os.path.join(data_dir, 'test.csv'), index_col=['ID'], usecols=[0, 1]).index)\n",
    "            predictions.to_csv(os.path.join(pred_dir, 'predictions_{}_{}.csv'.format(model_name[0:3], time)), header=['target'])\n",
    "            return predictions"
   ]
  },
  {
   "cell_type": "code",
   "execution_count": 6,
   "metadata": {},
   "outputs": [
    {
     "name": "stderr",
     "output_type": "stream",
     "text": [
      "'get_image_uri' method will be deprecated in favor of 'ImageURIProvider' class in SageMaker Python SDK v2.\n",
      "There is a more up to date SageMaker XGBoost image. To use the newer image, please set 'repo_version'='1.0-1'. For example:\n",
      "\tget_image_uri(region, 'xgboost', '1.0-1').\n"
     ]
    },
    {
     "name": "stdout",
     "output_type": "stream",
     "text": [
      "...........................................!\n",
      "download: s3://sagemaker-us-east-2-278383315865/santander_project/XGBoost/batch-bransform/test_pca.csv.out to predictions/test_pca.csv.out\n",
      "download: s3://sagemaker-us-east-2-278383315865/santander_project/XGBoost/batch-bransform/test_reduced.csv.out to predictions/test_reduced.csv.out\n"
     ]
    }
   ],
   "source": [
    "predictions = make_predictions(model_name, sagemaker_model=True)"
   ]
  },
  {
   "cell_type": "code",
   "execution_count": 7,
   "metadata": {},
   "outputs": [
    {
     "data": {
      "text/plain": [
       "<matplotlib.collections.PathCollection at 0x7fb6b2619e48>"
      ]
     },
     "execution_count": 7,
     "metadata": {},
     "output_type": "execute_result"
    },
    {
     "data": {
      "image/png": "[encoded data removed]",
      "text/plain": [
       "<Figure size 432x288 with 1 Axes>"
      ]
     },
     "metadata": {
      "needs_background": "light"
     },
     "output_type": "display_data"
    }
   ],
   "source": [
    "plt.scatter(range(len(predictions)), np.sort(predictions))"
   ]
  },
  {
   "cell_type": "markdown",
   "metadata": {},
   "source": [
    "# ONLY WHEN FINISHED"
   ]
  },
  {
   "cell_type": "code",
   "execution_count": 10,
   "metadata": {},
   "outputs": [],
   "source": [
    "# Cleaning up saved files\n",
    "import shutil\n",
    "\n",
    "shutil.rmtree(data_dir)\n",
    "shutil.rmtree(model_dir)\n",
    "shutil.rmtree(pred_dir)"
   ]
  },
  {
   "cell_type": "code",
   "execution_count": null,
   "metadata": {},
   "outputs": [],
   "source": []
  }
 ],
 "metadata": {
  "kernelspec": {
   "display_name": "conda_python3",
   "language": "python",
   "name": "conda_python3"
  },
  "language_info": {
   "codemirror_mode": {
    "name": "ipython",
    "version": 3
   },
   "file_extension": ".py",
   "mimetype": "text/x-python",
   "name": "python",
   "nbconvert_exporter": "python",
   "pygments_lexer": "ipython3",
   "version": "3.6.10"
  }
 },
 "nbformat": 4,
 "nbformat_minor": 4
}
