{
 "cells": [
  {
   "cell_type": "code",
   "execution_count": 11,
   "metadata": {},
   "outputs": [],
   "source": [
    "import os\n",
    "import numpy as np\n",
    "import pickle\n",
    "import datetime\n",
    "from time import gmtime, strftime\n",
    "import pandas as pd\n",
    "from scipy import stats, special\n",
    "import matplotlib.pyplot as plt\n",
    "import seaborn as sns\n",
    "from sklearn import preprocessing\n"
   ]
  },
  {
   "cell_type": "markdown",
   "metadata": {},
   "source": [
    "## Loading Model and Preprocessed Test Data"
   ]
  },
  {
   "cell_type": "code",
   "execution_count": 16,
   "metadata": {},
   "outputs": [],
   "source": [
    "data_dir = 'input_data'\n",
    "model_dir = 'models'\n",
    "pred_dir = 'predictions'\n",
    "model_name = 'XGB-model-pca-07-17-20'\n",
    "seed=0\n",
    "\n",
    "#Creating prediction directory\n",
    "if not os.path.exists(pred_dir):\n",
    "    os.makedirs(pred_dir)"
   ]
  },
  {
   "cell_type": "code",
   "execution_count": 17,
   "metadata": {},
   "outputs": [],
   "source": [
    "def load_model(model_name):\n",
    "    if model_name[0:3] == 'XGB': \n",
    "        import sagemaker\n",
    "        from sagemaker import get_execution_role\n",
    "        from sagemaker.amazon.amazon_estimator import get_image_uri\n",
    "        sagemaker_session = sagemaker.Session()\n",
    "        bucket = sagemaker_session.default_bucket()\n",
    "        role = sagemaker.get_execution_role()\n",
    "        model_prefix = 'santander_project/XGBoost'\n",
    "        \n",
    "        container = get_image_uri(sagemaker_session.boto_region_name, 'xgboost')\n",
    "        model_artifacts = sagemaker_session.upload_data(os.path.join(model_dir, model_name), bucket=bucket, key_prefix=model_prefix)\n",
    "        \n",
    "        primary_container = {\n",
    "            \"Image\": container,\n",
    "            \"ModelDataUrl\": model_artifacts\n",
    "         }\n",
    "        \n",
    "        loaded_model = sagemaker_session.sagemaker_client.create_model(\n",
    "                                ModelName = model_name,\n",
    "                                ExecutionRoleArn = role,\n",
    "                                PrimaryContainer = primary_container)\n",
    "        return loaded_model\n",
    "    \n",
    "    else:   \n",
    "        loaded_model = pickle.load(open(os.path.join(model_dir, model_name), 'rb'))\n",
    "        return loaded_model"
   ]
  },
  {
   "cell_type": "code",
   "execution_count": 49,
   "metadata": {},
   "outputs": [],
   "source": [
    "def make_predictions(model_name, transform='pca', sagemaker_model=True, transform_target=True):\n",
    "    files_dict = {'sparse' : 'test_sparse_pca.csv', 'pca' : 'test_pca.csv', 'imputation' : 'test_imputed.csv', None : 'test.csv'}\n",
    "    global data_dir \n",
    "    global pred_dir\n",
    "    loaded_model = load_model(model_name)\n",
    "    \n",
    "    if sagemaker_model==True:\n",
    "            import re\n",
    "            import sagemaker\n",
    "            sagemaker_session = sagemaker.Session()\n",
    " \n",
    "            transform_job_name = model_name + strftime(\"%Y-%m-%d-%H-%M-%S\", gmtime())\n",
    "\n",
    "            transform_request = \\\n",
    "            {\n",
    "                \"TransformJobName\": transform_job_name,\n",
    "\n",
    "                \"ModelName\": model_name,\n",
    "\n",
    "                \"MaxConcurrentTransforms\": 1,\n",
    "\n",
    "                \"MaxPayloadInMB\": 6,\n",
    "\n",
    "                \"BatchStrategy\": \"MultiRecord\",\n",
    "\n",
    "                \"TransformOutput\": {\n",
    "                    \"S3OutputPath\": \"s3://{}/santander_project/XGBoost/batch-bransform/\".format(sagemaker_session.default_bucket()),\n",
    "                    'Accept' : 'text/csv',\n",
    "                    'AssembleWith' : 'Line'\n",
    "                },\n",
    "\n",
    "                \"TransformInput\": {\n",
    "                    \"ContentType\": \"text/csv\",\n",
    "                    \"SplitType\": \"Line\",\n",
    "                    \"DataSource\": {\n",
    "                        \"S3DataSource\": {\n",
    "                            \"S3DataType\": \"S3Prefix\",\n",
    "                            \"S3Uri\": 's3://{}/santander_project/data/{}'.format(sagemaker_session.default_bucket(), files_dict[transform])\n",
    "                        }\n",
    "                    }\n",
    "                },\n",
    "\n",
    "                \"TransformResources\": {\n",
    "                        \"InstanceType\": \"ml.m4.xlarge\",\n",
    "                        \"InstanceCount\": 1\n",
    "                },\n",
    "                \n",
    "                \"DataProcessing\": { \n",
    "                        \"InputFilter\":  '$', \n",
    "                        \"JoinSource\": \"Input\",\n",
    "                        \"OutputFilter\": \"$[-1:]\"    \n",
    "                }\n",
    "            }\n",
    "            \n",
    "            transform_response = sagemaker_session.sagemaker_client.create_transform_job(**transform_request)\n",
    "            transform_desc = sagemaker_session.wait_for_transform_job(transform_job_name)\n",
    "            transform_location = transform_request['TransformOutput']['S3OutputPath'] \n",
    "            \n",
    "            # Saving predictions from s3 to local drive\n",
    "            !aws s3 cp --recursive $transform_location $pred_dir \n",
    "            predictions_file = [x for x in os.listdir(pred_dir)][0]\n",
    "            predictions = pd.read_csv(os.path.join(pred_dir, predictions_file), header=None, engine='python')\n",
    "            \n",
    "            # Inverting Box-Cox transformation of target variable, if applicable\n",
    "            if transform_target==True:\n",
    "                predictions = special.inv_boxcox(predictions.values, stats.boxcox(pd.read_csv(os.path.join(data_dir, 'train.csv'), usecols=['target', 'ID'], index_col='ID')['target'])[1])\n",
    "                predictions = [x[0] for x in predictions]\n",
    "                return predictions\n",
    "            else: \n",
    "                return predictions\n",
    "            \n",
    "    else:\n",
    "        X_test = pd.read_csv(os.path.join(data_dir, files_dict[transform]))\n",
    "        predictions = loaded_model.predict(X_test)\n",
    "        \n",
    "        # Inverting Box-Cox transformation of target variable, if applicable\n",
    "        if transform_target==True:\n",
    "            predictions = special.inv_boxcox(predictions.reshape(-1, 1), stats.boxcox(pd.read_csv(os.path.join(data_dir, 'train.csv'), usecols=['target', 'ID'], index_col='ID')['target'])[1])\n",
    "            predictions = [x[0] for x in predictions]\n",
    "            return predictions\n",
    "        else:\n",
    "            return predictions"
   ]
  },
  {
   "cell_type": "code",
   "execution_count": 50,
   "metadata": {},
   "outputs": [
    {
     "name": "stderr",
     "output_type": "stream",
     "text": [
      "WARNING:sagemaker.amazon.amazon_estimator:'get_image_uri' method will be deprecated in favor of 'ImageURIProvider' class in SageMaker Python SDK v2.\n",
      "WARNING:root:There is a more up to date SageMaker XGBoost image. To use the newer image, please set 'repo_version'='1.0-1'. For example:\n",
      "\tget_image_uri(region, 'xgboost', '1.0-1').\n"
     ]
    },
    {
     "ename": "ClientError",
     "evalue": "An error occurred (ValidationException) when calling the CreateModel operation: Cannot create already existing model \"arn:aws:sagemaker:us-east-2:278383315865:model/xgb-model-pca-07-17-20\".",
     "output_type": "error",
     "traceback": [
      "\u001b[0;31m---------------------------------------------------------------------------\u001b[0m",
      "\u001b[0;31mClientError\u001b[0m                               Traceback (most recent call last)",
      "\u001b[0;32m<ipython-input-50-a4ac4442094f>\u001b[0m in \u001b[0;36m<module>\u001b[0;34m\u001b[0m\n\u001b[0;32m----> 1\u001b[0;31m \u001b[0mpredictions\u001b[0m \u001b[0;34m=\u001b[0m \u001b[0mmake_predictions\u001b[0m\u001b[0;34m(\u001b[0m\u001b[0mmodel_name\u001b[0m\u001b[0;34m)\u001b[0m\u001b[0;34m\u001b[0m\u001b[0;34m\u001b[0m\u001b[0m\n\u001b[0m",
      "\u001b[0;32m<ipython-input-49-417c0be3b701>\u001b[0m in \u001b[0;36mmake_predictions\u001b[0;34m(model_name, transform, sagemaker_model, transform_target)\u001b[0m\n\u001b[1;32m      3\u001b[0m     \u001b[0;32mglobal\u001b[0m \u001b[0mdata_dir\u001b[0m\u001b[0;34m\u001b[0m\u001b[0;34m\u001b[0m\u001b[0m\n\u001b[1;32m      4\u001b[0m     \u001b[0;32mglobal\u001b[0m \u001b[0mpred_dir\u001b[0m\u001b[0;34m\u001b[0m\u001b[0;34m\u001b[0m\u001b[0m\n\u001b[0;32m----> 5\u001b[0;31m     \u001b[0mloaded_model\u001b[0m \u001b[0;34m=\u001b[0m \u001b[0mload_model\u001b[0m\u001b[0;34m(\u001b[0m\u001b[0mmodel_name\u001b[0m\u001b[0;34m)\u001b[0m\u001b[0;34m\u001b[0m\u001b[0;34m\u001b[0m\u001b[0m\n\u001b[0m\u001b[1;32m      6\u001b[0m \u001b[0;34m\u001b[0m\u001b[0m\n\u001b[1;32m      7\u001b[0m     \u001b[0;32mif\u001b[0m \u001b[0msagemaker_model\u001b[0m\u001b[0;34m==\u001b[0m\u001b[0;32mTrue\u001b[0m\u001b[0;34m:\u001b[0m\u001b[0;34m\u001b[0m\u001b[0;34m\u001b[0m\u001b[0m\n",
      "\u001b[0;32m<ipython-input-17-94bb61713eab>\u001b[0m in \u001b[0;36mload_model\u001b[0;34m(model_name)\u001b[0m\n\u001b[1;32m     20\u001b[0m                                 \u001b[0mModelName\u001b[0m \u001b[0;34m=\u001b[0m \u001b[0mmodel_name\u001b[0m\u001b[0;34m,\u001b[0m\u001b[0;34m\u001b[0m\u001b[0;34m\u001b[0m\u001b[0m\n\u001b[1;32m     21\u001b[0m                                 \u001b[0mExecutionRoleArn\u001b[0m \u001b[0;34m=\u001b[0m \u001b[0mrole\u001b[0m\u001b[0;34m,\u001b[0m\u001b[0;34m\u001b[0m\u001b[0;34m\u001b[0m\u001b[0m\n\u001b[0;32m---> 22\u001b[0;31m                                 PrimaryContainer = primary_container)\n\u001b[0m\u001b[1;32m     23\u001b[0m         \u001b[0;32mreturn\u001b[0m \u001b[0mloaded_model\u001b[0m\u001b[0;34m\u001b[0m\u001b[0;34m\u001b[0m\u001b[0m\n\u001b[1;32m     24\u001b[0m \u001b[0;34m\u001b[0m\u001b[0m\n",
      "\u001b[0;32m~/anaconda3/envs/python3/lib/python3.6/site-packages/botocore/client.py\u001b[0m in \u001b[0;36m_api_call\u001b[0;34m(self, *args, **kwargs)\u001b[0m\n\u001b[1;32m    314\u001b[0m                     \"%s() only accepts keyword arguments.\" % py_operation_name)\n\u001b[1;32m    315\u001b[0m             \u001b[0;31m# The \"self\" in this scope is referring to the BaseClient.\u001b[0m\u001b[0;34m\u001b[0m\u001b[0;34m\u001b[0m\u001b[0;34m\u001b[0m\u001b[0m\n\u001b[0;32m--> 316\u001b[0;31m             \u001b[0;32mreturn\u001b[0m \u001b[0mself\u001b[0m\u001b[0;34m.\u001b[0m\u001b[0m_make_api_call\u001b[0m\u001b[0;34m(\u001b[0m\u001b[0moperation_name\u001b[0m\u001b[0;34m,\u001b[0m \u001b[0mkwargs\u001b[0m\u001b[0;34m)\u001b[0m\u001b[0;34m\u001b[0m\u001b[0;34m\u001b[0m\u001b[0m\n\u001b[0m\u001b[1;32m    317\u001b[0m \u001b[0;34m\u001b[0m\u001b[0m\n\u001b[1;32m    318\u001b[0m         \u001b[0m_api_call\u001b[0m\u001b[0;34m.\u001b[0m\u001b[0m__name__\u001b[0m \u001b[0;34m=\u001b[0m \u001b[0mstr\u001b[0m\u001b[0;34m(\u001b[0m\u001b[0mpy_operation_name\u001b[0m\u001b[0;34m)\u001b[0m\u001b[0;34m\u001b[0m\u001b[0;34m\u001b[0m\u001b[0m\n",
      "\u001b[0;32m~/anaconda3/envs/python3/lib/python3.6/site-packages/botocore/client.py\u001b[0m in \u001b[0;36m_make_api_call\u001b[0;34m(self, operation_name, api_params)\u001b[0m\n\u001b[1;32m    633\u001b[0m             \u001b[0merror_code\u001b[0m \u001b[0;34m=\u001b[0m \u001b[0mparsed_response\u001b[0m\u001b[0;34m.\u001b[0m\u001b[0mget\u001b[0m\u001b[0;34m(\u001b[0m\u001b[0;34m\"Error\"\u001b[0m\u001b[0;34m,\u001b[0m \u001b[0;34m{\u001b[0m\u001b[0;34m}\u001b[0m\u001b[0;34m)\u001b[0m\u001b[0;34m.\u001b[0m\u001b[0mget\u001b[0m\u001b[0;34m(\u001b[0m\u001b[0;34m\"Code\"\u001b[0m\u001b[0;34m)\u001b[0m\u001b[0;34m\u001b[0m\u001b[0;34m\u001b[0m\u001b[0m\n\u001b[1;32m    634\u001b[0m             \u001b[0merror_class\u001b[0m \u001b[0;34m=\u001b[0m \u001b[0mself\u001b[0m\u001b[0;34m.\u001b[0m\u001b[0mexceptions\u001b[0m\u001b[0;34m.\u001b[0m\u001b[0mfrom_code\u001b[0m\u001b[0;34m(\u001b[0m\u001b[0merror_code\u001b[0m\u001b[0;34m)\u001b[0m\u001b[0;34m\u001b[0m\u001b[0;34m\u001b[0m\u001b[0m\n\u001b[0;32m--> 635\u001b[0;31m             \u001b[0;32mraise\u001b[0m \u001b[0merror_class\u001b[0m\u001b[0;34m(\u001b[0m\u001b[0mparsed_response\u001b[0m\u001b[0;34m,\u001b[0m \u001b[0moperation_name\u001b[0m\u001b[0;34m)\u001b[0m\u001b[0;34m\u001b[0m\u001b[0;34m\u001b[0m\u001b[0m\n\u001b[0m\u001b[1;32m    636\u001b[0m         \u001b[0;32melse\u001b[0m\u001b[0;34m:\u001b[0m\u001b[0;34m\u001b[0m\u001b[0;34m\u001b[0m\u001b[0m\n\u001b[1;32m    637\u001b[0m             \u001b[0;32mreturn\u001b[0m \u001b[0mparsed_response\u001b[0m\u001b[0;34m\u001b[0m\u001b[0;34m\u001b[0m\u001b[0m\n",
      "\u001b[0;31mClientError\u001b[0m: An error occurred (ValidationException) when calling the CreateModel operation: Cannot create already existing model \"arn:aws:sagemaker:us-east-2:278383315865:model/xgb-model-pca-07-17-20\"."
     ]
    }
   ],
   "source": [
    "predictions = make_predictions(model_name)"
   ]
  },
  {
   "cell_type": "markdown",
   "metadata": {},
   "source": [
    "## Making Predictions on Test Data"
   ]
  },
  {
   "cell_type": "markdown",
   "metadata": {},
   "source": [
    "Inverting the Box-Cox transformation on the predictions using the original lambda derived from training data, for comparison to the true target values"
   ]
  },
  {
   "cell_type": "code",
   "execution_count": 43,
   "metadata": {},
   "outputs": [
    {
     "data": {
      "text/plain": [
       "<matplotlib.collections.PathCollection at 0x7f2ae7a1a358>"
      ]
     },
     "execution_count": 43,
     "metadata": {},
     "output_type": "execute_result"
    },
    {
     "data": {
      "image/png": "[encoded data removed]",
      "text/plain": [
       "<Figure size 432x288 with 1 Axes>"
      ]
     },
     "metadata": {
      "needs_background": "light"
     },
     "output_type": "display_data"
    }
   ],
   "source": [
    "plt.scatter(range(len(predictions)), np.sort(predictions))"
   ]
  },
  {
   "cell_type": "markdown",
   "metadata": {},
   "source": [
    "Well.... thats not great. "
   ]
  },
  {
   "cell_type": "markdown",
   "metadata": {},
   "source": [
    "Saving predictions for submission"
   ]
  },
  {
   "cell_type": "code",
   "execution_count": null,
   "metadata": {},
   "outputs": [],
   "source": [
    "time = datetime.datetime.now().strftime(\"%D\").replace('/', '_')\n",
    "\n",
    "\n",
    "submission = pd.Series(predictions, X_test.index, name='target')\n",
    "    \n",
    "pred_file = 'predictions_{}.csv'.format(time)\n",
    "submission.to_csv(os.path.join(pred_dir, pred_file))"
   ]
  },
  {
   "cell_type": "code",
   "execution_count": null,
   "metadata": {},
   "outputs": [],
   "source": []
  }
 ],
 "metadata": {
  "kernelspec": {
   "display_name": "conda_python3",
   "language": "python",
   "name": "conda_python3"
  },
  "language_info": {
   "codemirror_mode": {
    "name": "ipython",
    "version": 3
   },
   "file_extension": ".py",
   "mimetype": "text/x-python",
   "name": "python",
   "nbconvert_exporter": "python",
   "pygments_lexer": "ipython3",
   "version": "3.6.10"
  }
 },
 "nbformat": 4,
 "nbformat_minor": 4
}
