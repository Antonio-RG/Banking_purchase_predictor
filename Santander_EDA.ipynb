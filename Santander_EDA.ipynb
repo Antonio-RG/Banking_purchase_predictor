{
 "cells": [
  {
   "cell_type": "code",
   "execution_count": null,
   "metadata": {},
   "outputs": [],
   "source": [
    "import os\n",
    "import numpy as np\n",
    "import pickle\n",
    "import pandas as pd\n",
    "import matplotlib.pyplot as plt\n",
    "import seaborn as sns\n",
    "from scipy import stats\n",
    "from sklearn import preprocessing, model_selection, metrics, decomposition\n",
    "from zipfile import ZipFile\n",
    "\n",
    "%matplotlib inline"
   ]
  },
  {
   "cell_type": "markdown",
   "metadata": {},
   "source": [
    "## Initial Examination of Training Data"
   ]
  },
  {
   "cell_type": "code",
   "execution_count": null,
   "metadata": {},
   "outputs": [],
   "source": [
    "data_dir = 'input_data'\n",
    "file_name = \"santander-value-prediction-challenge.zip\"\n",
    "seed=0\n",
    "\n",
    "with ZipFile(file_name, 'r') as zip_file: \n",
    "    for file in zip_file.namelist():\n",
    "        if os.path.exists(data_dir + r'/' + file):\n",
    "            pass\n",
    "        else:\n",
    "            zip_file.extract(file, data_dir)"
   ]
  },
  {
   "cell_type": "code",
   "execution_count": null,
   "metadata": {},
   "outputs": [],
   "source": [
    "train_df = pd.read_csv(os.path.join(data_dir, 'train.csv'), index_col='ID')"
   ]
  },
  {
   "cell_type": "code",
   "execution_count": null,
   "metadata": {},
   "outputs": [],
   "source": [
    "train_df "
   ]
  },
  {
   "cell_type": "code",
   "execution_count": null,
   "metadata": {},
   "outputs": [],
   "source": [
    "train_df.shape"
   ]
  },
  {
   "cell_type": "code",
   "execution_count": null,
   "metadata": {},
   "outputs": [],
   "source": [
    "train_df.head()"
   ]
  },
  {
   "cell_type": "markdown",
   "metadata": {},
   "source": [
    "To begin with, looking for any observations with N/A values in train data. There do not appear to be any missing values"
   ]
  },
  {
   "cell_type": "code",
   "execution_count": null,
   "metadata": {},
   "outputs": [],
   "source": [
    "list(filter(lambda x: x < len(train_df.columns), train_df.apply(lambda x: x.count(), axis=1)))"
   ]
  },
  {
   "cell_type": "code",
   "execution_count": null,
   "metadata": {},
   "outputs": [],
   "source": [
    "train_df.info"
   ]
  },
  {
   "cell_type": "code",
   "execution_count": null,
   "metadata": {},
   "outputs": [],
   "source": [
    "train_df.columns"
   ]
  },
  {
   "cell_type": "markdown",
   "metadata": {},
   "source": [
    "Feature names do not contain any meaningful information, so the necessary reduction of features will have to be based on on predictive relevance"
   ]
  },
  {
   "cell_type": "markdown",
   "metadata": {},
   "source": [
    "## Examining Target Distribution"
   ]
  },
  {
   "cell_type": "markdown",
   "metadata": {},
   "source": [
    "Now- examining the characteristics of the target data. There is a very high range of values in the train target, with significant outliers. There is a strong apparent left skew."
   ]
  },
  {
   "cell_type": "code",
   "execution_count": null,
   "metadata": {
    "scrolled": true
   },
   "outputs": [],
   "source": [
    "train_df.target.describe()"
   ]
  },
  {
   "cell_type": "code",
   "execution_count": null,
   "metadata": {},
   "outputs": [],
   "source": [
    "fig, (ax1, ax2) = plt.subplots(ncols=2, figsize=(20,6))\n",
    "ax1.scatter(range(train_df.shape[0]), np.sort(train_df['target'].values))\n",
    "ax1.set_xlabel('Index Number', fontsize=12)\n",
    "ax1.set_ylabel('Target', fontsize=12)\n",
    "ax1.set_title(\"Target Distribution\", fontsize=16)\n",
    "\n",
    "ax2.hist(x=np.sort(train_df.target.values), bins=30)\n",
    "ax2.set_xlabel('Transaction Value', fontsize=12)\n",
    "ax2.set_ylabel('Frequency', fontsize=12)\n",
    "ax2.set_title('Target Histogram', fontsize=16)\n",
    "plt.show()"
   ]
  },
  {
   "cell_type": "markdown",
   "metadata": {},
   "source": [
    "Now, exploring transforms of target data to see if either results in a more normal distribution. Taking a log of the values helps normalize the data some, but a Box-Cox transform appears to do much better."
   ]
  },
  {
   "cell_type": "code",
   "execution_count": null,
   "metadata": {},
   "outputs": [],
   "source": [
    "fig, (ax1, ax2) = plt.subplots(nrows=1, ncols=2, figsize=(20, 5)) \n",
    "sns.distplot(np.log(train_df.target.values), bins=30, ax=ax1, kde=True).set_title('Distribution of Target Log Transform', fontsize=14)\n",
    "sns.distplot(stats.boxcox(train_df.target.values)[0], bins=30, ax=ax2, kde=True).set_title('Distribution of Target Box-Cox Transform', fontsize=14)\n"
   ]
  },
  {
   "cell_type": "markdown",
   "metadata": {},
   "source": [
    "## Exploring Feature Data Distributions"
   ]
  },
  {
   "cell_type": "markdown",
   "metadata": {},
   "source": [
    "Quickly examining the distributions of a random subsample of the feature data. Most appear to have a vast majority of zero values."
   ]
  },
  {
   "cell_type": "code",
   "execution_count": null,
   "metadata": {},
   "outputs": [],
   "source": [
    "fig = plt.figure(figsize=(20, 100)) \n",
    "\n",
    "for i, col in enumerate(train_df.iloc[:, 1:].sample(30, axis=1)):\n",
    "    ax = fig.add_subplot(25, 2, i+1)\n",
    "    sns.distplot(train_df[col].values, bins=10, ax = ax, kde=False).set_title('{} Distribution'.format(col))"
   ]
  },
  {
   "cell_type": "markdown",
   "metadata": {},
   "source": [
    "Now, looking at general relationship between a random subsample of features and the target"
   ]
  },
  {
   "cell_type": "code",
   "execution_count": null,
   "metadata": {},
   "outputs": [],
   "source": [
    "fig = plt.figure(figsize=(20, 100)) \n",
    "\n",
    "for i, col in enumerate(train_df.iloc[:, 1:].sample(50, axis=1)):\n",
    "    ax = fig.add_subplot(25, 2, i+1)\n",
    "    sns.regplot(train_df[col].values, train_df['target'], ax = ax, seed=seed).set_title('Relationship Between {} and Target'.format(col))"
   ]
  },
  {
   "cell_type": "markdown",
   "metadata": {},
   "source": [
    "Next, examining different potential transformations to data"
   ]
  },
  {
   "cell_type": "code",
   "execution_count": null,
   "metadata": {},
   "outputs": [],
   "source": [
    "sample=50\n",
    "\n",
    "fig, axs = plt.subplots(ncols=4, nrows=sample, figsize=(20, 150))\n",
    "\n",
    "for i, col in enumerate(train_df.iloc[:, 1:].sample(sample, axis=1)):\n",
    "    sns.regplot(np.log(train_df[col]), stats.boxcox(train_df['target'])[0], ax=axs[i, 0]).set_title('Relationship Between Log of {} and Target'.format(col), fontsize=8, pad=15)\n",
    "    sns.regplot(train_df[col], stats.boxcox(train_df['target'])[0], ax=axs[i, 1], color='magenta').set_title('Relationship Between {} and Box-Cox of Target'.format(col), fontsize=8, pad=20)\n",
    "    sns.regplot(stats.yeojohnson(train_df[col])[0], train_df['target'], color='green', ax=axs[i, 2]).set_title('Relationship Between Yeo-Johnson of {} and Target'.format(col), fontsize=8, pad=20)\n",
    "    sns.regplot(stats.yeojohnson(train_df[col])[0], stats.boxcox(train_df['target'])[0], color='orange', ax=axs[i, 3]).set_title('Relationship Between Yeo-Johnson of {} and Box-Cox of Target'.format(col), fontsize=8, pad=20)\n",
    "\n",
    "fig.tight_layout(pad=2.0)\n"
   ]
  },
  {
   "cell_type": "markdown",
   "metadata": {},
   "source": [
    "The Yeo-Johnson transforms dont seem to work well with the data. Log transforming the features and Box-Cox transforming the target seems to result in decent variation, but drops most of the values. "
   ]
  },
  {
   "cell_type": "markdown",
   "metadata": {},
   "source": [
    "# ONLY WHEN FINISHED"
   ]
  },
  {
   "cell_type": "code",
   "execution_count": null,
   "metadata": {},
   "outputs": [],
   "source": [
    "# Cleaning up saved data files\n",
    "import shutil\n",
    "\n",
    "shutil.rmtree(data_dir)"
   ]
  },
  {
   "cell_type": "code",
   "execution_count": null,
   "metadata": {},
   "outputs": [],
   "source": []
  }
 ],
 "metadata": {
  "kernelspec": {
   "display_name": "Python 3",
   "language": "python",
   "name": "python3"
  },
  "language_info": {
   "codemirror_mode": {
    "name": "ipython",
    "version": 3
   },
   "file_extension": ".py",
   "mimetype": "text/x-python",
   "name": "python",
   "nbconvert_exporter": "python",
   "pygments_lexer": "ipython3",
   "version": "3.7.6"
  }
 },
 "nbformat": 4,
 "nbformat_minor": 4
}
