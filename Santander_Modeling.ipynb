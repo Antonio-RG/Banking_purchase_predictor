{
 "cells": [
  {
   "cell_type": "code",
   "execution_count": null,
   "metadata": {},
   "outputs": [],
   "source": [
    "import os\n",
    "import numpy as np \n",
    "import pandas as pd\n",
    "from scipy import stats, special\n",
    "import matplotlib.pyplot as plt\n",
    "from sklearn import model_selection\n",
    "from sklearn.linear_model import Ridge, Lasso, SGDRegressor\n",
    "from sklearn.metrics import mean_squared_log_error\n",
    "from sklearn.ensemble import RandomForestRegressor, GradientBoostingRegressor, AdaBoostRegressor\n",
    "from sklearn.svm import SVR\n",
    "\n",
    "%matplotlib inline"
   ]
  },
  {
   "cell_type": "markdown",
   "metadata": {},
   "source": [
    "## Loading and Splitting Transformed Data"
   ]
  },
  {
   "cell_type": "code",
   "execution_count": null,
   "metadata": {},
   "outputs": [],
   "source": [
    "data_dir = 'input_data'\n",
    "data_file = 'train_pca.csv'\n",
    "model_dir = 'models'\n",
    "seed=0\n",
    "scoring='neg_mean_squared_error'"
   ]
  },
  {
   "cell_type": "code",
   "execution_count": null,
   "metadata": {},
   "outputs": [],
   "source": [
    "processed_df = pd.read_csv(os.path.join(data_dir, data_file), index_col='ID')"
   ]
  },
  {
   "cell_type": "code",
   "execution_count": null,
   "metadata": {},
   "outputs": [],
   "source": [
    "X = processed_df.iloc[:, 1:]\n",
    "y = processed_df['target']"
   ]
  },
  {
   "cell_type": "code",
   "execution_count": null,
   "metadata": {},
   "outputs": [],
   "source": [
    "X_train, X_validate, y_train, y_validate = model_selection.train_test_split(X, y, random_state=seed)"
   ]
  },
  {
   "cell_type": "markdown",
   "metadata": {},
   "source": [
    "## Model Selection"
   ]
  },
  {
   "cell_type": "code",
   "execution_count": null,
   "metadata": {},
   "outputs": [],
   "source": [
    "models = []\n",
    "models.append(('RCV', Ridge()))\n",
    "models.append(('SVM', SVR()))\n",
    "models.append(('RFR', RandomForestRegressor()))\n",
    "models.append(('GBM', AdaBoostRegressor()))\n",
    "models.append(('GBR', GradientBoostingRegressor()))\n",
    "models.append(('SGD', SGDRegressor()))\n",
    "models.append(('LSO', Lasso()))"
   ]
  },
  {
   "cell_type": "code",
   "execution_count": null,
   "metadata": {},
   "outputs": [],
   "source": [
    "results = []\n",
    "names = []\n",
    "for name, model in models:\n",
    "    kfold = model_selection.KFold(n_splits=10, random_state=seed, shuffle=True)\n",
    "    cv_results = model_selection.cross_val_score(model, X, y, cv=kfold, scoring=scoring)\n",
    "    results.append(cv_results)\n",
    "    names.append(name)\n",
    "    msg = \"%s: %f (%f)\" % (name, cv_results.mean(), cv_results.std())\n",
    "    print(msg)"
   ]
  },
  {
   "cell_type": "markdown",
   "metadata": {},
   "source": [
    "## Hyperparameter tuning"
   ]
  },
  {
   "cell_type": "markdown",
   "metadata": {},
   "source": [
    "It looks like a baseline gradient boosted regression and random forest regression performed the best on the training data. I will focus on tuning the hyperparamters of these algorithms further using GridsearchCV."
   ]
  },
  {
   "cell_type": "markdown",
   "metadata": {},
   "source": [
    "### Gradient Boosting Regressor"
   ]
  },
  {
   "cell_type": "code",
   "execution_count": null,
   "metadata": {},
   "outputs": [],
   "source": [
    "#Instantiating the model and parameters\n",
    "GBRegressor = GradientBoostingRegressor()\n",
    "grid_values_grdb = {'n_estimators' : [1, 10, 100], 'max_depth' : [1, 3, 5], 'learning_rate' : [.001, .01, .1]}\n",
    "\n",
    "#Fitting model with parameter search\n",
    "GBRegressor_CV = model_selection.GridSearchCV(GBRegressor, param_grid = grid_values_grdb, scoring=scoring)\n",
    "GBRegressor_CV.fit(X_train, y_train)"
   ]
  },
  {
   "cell_type": "code",
   "execution_count": null,
   "metadata": {},
   "outputs": [],
   "source": [
    "#Making predictions\n",
    "GRB_predicted = GBRegressor_CV.predict(X_validate)\n",
    "GRB_predicted = special.inv_boxcox(GRB_predicted.reshape(-1, 1), stats.boxcox(pd.read_csv(os.path.join(data_dir, 'train.csv'), usecols=['target', 'ID'], index_col='ID')['target'])[1])\n",
    "GRB_predicted = [x[0] for x in GRB_predicted]"
   ]
  },
  {
   "cell_type": "code",
   "execution_count": null,
   "metadata": {},
   "outputs": [],
   "source": [
    "# Reversing Box-Cox transformation on target data\n",
    "y_validate_inv = special.inv_boxcox(y_validate, stats.boxcox(pd.read_csv(os.path.join(data_dir, 'train.csv'), usecols=['target', 'ID'], index_col='ID')['target'])[1])"
   ]
  },
  {
   "cell_type": "code",
   "execution_count": null,
   "metadata": {},
   "outputs": [],
   "source": [
    "# Evaluating RMSLE of predictions:\n",
    "np.sqrt(mean_squared_log_error(y_validate_inv, GRB_predicted))"
   ]
  },
  {
   "cell_type": "code",
   "execution_count": null,
   "metadata": {},
   "outputs": [],
   "source": [
    "#Plotting predictions versus true values\n",
    "fig, (ax1, ax2) = plt.subplots(nrows=1, ncols=2, figsize=(20, 5)) \n",
    "ax1.scatter(y_validate_inv, GRB_predicted)\n",
    "ax1.set_title('Predicted Versus Actual Plot', fontsize=16)\n",
    "ax1.set_xlabel('y True', fontsize=12)\n",
    "ax1.set_ylabel('y Predicted', fontsize=12)\n",
    "ax2.scatter(range(len(GRB_predicted)), np.sort(GRB_predicted))\n",
    "ax2.set_title('Prediction Distribution', fontsize=16)\n",
    "ax2.set_xlabel('Index Number', fontsize=12)\n",
    "ax2.set_ylabel('Predicted Value', fontsize=12)"
   ]
  },
  {
   "cell_type": "markdown",
   "metadata": {},
   "source": [
    "### Random Forest Regressor"
   ]
  },
  {
   "cell_type": "code",
   "execution_count": null,
   "metadata": {},
   "outputs": [],
   "source": [
    "# Instantiating regressor and parameter search\n",
    "RFRegressor = RandomForestRegressor()\n",
    "grid_values_rfr = {'n_estimators' : [1, 10, 100], 'max_depth' : [1, 3, 5], 'min_samples_split' : [2, 3, 5]}\n",
    "RFRegressor_CV = model_selection.GridSearchCV(RFRegressor, param_grid = grid_values_rfr, scoring=scoring)\n",
    "RFRegressor_CV.fit(X_train, y_train)"
   ]
  },
  {
   "cell_type": "code",
   "execution_count": null,
   "metadata": {},
   "outputs": [],
   "source": [
    "#Making and evaluating predictions\n",
    "RFR_predicted = RFRegressor_CV.predict(X_validate)\n",
    "RFR_predicted = special.inv_boxcox(RFR_predicted.reshape(-1, 1), stats.boxcox(pd.read_csv(os.path.join(data_dir, 'train.csv'), usecols=['target', 'ID'], index_col='ID')['target'])[1])\n",
    "RFR_predicted = [x[0] for x in RFR_predicted]\n",
    "np.sqrt(mean_squared_log_error(y_validate_inv, RFR_predicted))"
   ]
  },
  {
   "cell_type": "code",
   "execution_count": null,
   "metadata": {},
   "outputs": [],
   "source": [
    "fig, (ax1, ax2) = plt.subplots(nrows=1, ncols=2, figsize=(20, 5)) \n",
    "ax1.scatter(y_validate_inv, RFR_predicted)\n",
    "ax1.set_title('Predicted Versus Actual Plot', fontsize=16)\n",
    "ax1.set_xlabel('y True', fontsize=12)\n",
    "ax1.set_ylabel('y Predicted', fontsize=12)\n",
    "ax2.scatter(range(len(RFR_predicted)), np.sort(RFR_predicted))\n",
    "ax2.set_title('Prediction Distribution', fontsize=16)\n",
    "ax2.set_xlabel('Index Number', fontsize=12)\n",
    "ax2.set_ylabel('Predicted Value', fontsize=12)"
   ]
  },
  {
   "cell_type": "markdown",
   "metadata": {},
   "source": [
    "As there is not a significant difference in performance between both models, these results indicate a need for further data modeling."
   ]
  },
  {
   "cell_type": "code",
   "execution_count": null,
   "metadata": {},
   "outputs": [],
   "source": [
    "GBRegressor_CV.fit(X, y)"
   ]
  },
  {
   "cell_type": "markdown",
   "metadata": {},
   "source": [
    "## Saving Model for Test Predictions"
   ]
  },
  {
   "cell_type": "code",
   "execution_count": null,
   "metadata": {},
   "outputs": [],
   "source": [
    "import pickle\n",
    "import datetime\n",
    "time = datetime.datetime.now().strftime(\"%D\").replace('/', '_')\n",
    "\n",
    "#Creating model directory\n",
    "if not os.path.exists(model_dir):\n",
    "    os.makedirs(model_dir)\n",
    "\n",
    "# Saving serialized model data to directory\n",
    "filename = 'GBR_model_{}'.format(time)\n",
    "pickle.dump(GBRegressor_CV, open(os.path.join(model_dir, filename), 'wb'))"
   ]
  },
  {
   "cell_type": "code",
   "execution_count": null,
   "metadata": {},
   "outputs": [],
   "source": []
  }
 ],
 "metadata": {
  "kernelspec": {
   "display_name": "Python 3",
   "language": "python",
   "name": "python3"
  },
  "language_info": {
   "codemirror_mode": {
    "name": "ipython",
    "version": 3
   },
   "file_extension": ".py",
   "mimetype": "text/x-python",
   "name": "python",
   "nbconvert_exporter": "python",
   "pygments_lexer": "ipython3",
   "version": "3.7.6"
  }
 },
 "nbformat": 4,
 "nbformat_minor": 4
}
